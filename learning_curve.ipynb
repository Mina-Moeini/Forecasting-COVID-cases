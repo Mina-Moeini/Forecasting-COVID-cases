{
 "cells": [
  {
   "cell_type": "code",
   "execution_count": 2,
   "id": "f97c49d5",
   "metadata": {},
   "outputs": [],
   "source": [
    "import pandas as pd\n",
    "import numpy as np\n",
    "import matplotlib\n",
    "import matplotlib.pyplot as plt\n",
    "from sklearn.preprocessing import MinMaxScaler\n",
    "from sklearn.metrics import mean_squared_error\n",
    "from sklearn.linear_model import LinearRegression\n",
    "from sklearn.model_selection import RandomizedSearchCV\n",
    "from sklearn.ensemble import RandomForestRegressor\n",
    "from sklearn.svm import SVR\n",
    "from sklearn.model_selection import TimeSeriesSplit\n",
    "from sklearn.model_selection import learning_curve\n",
    "#---------------------(Read Dataset)-------------------------------------------\n",
    "df=pd.read_csv(\"C:/Users/Asus/Desktop/Forecasting-covidcases/dataset-fr.csv\")\n",
    "df['date']=pd.to_datetime(df['date']).dt.date\n",
    "df.set_index('date',inplace=True)\n",
    "#------------------(Split Dataset)---------------------------------------------\n",
    "TRAIN_SPLIT=int(len(df)*0.8)\n",
    "#print(TRAIN_SPLIT)\n",
    "lag=21 #for active cases (conf_j1)"
   ]
  },
  {
   "cell_type": "code",
   "execution_count": 3,
   "id": "89823622",
   "metadata": {},
   "outputs": [],
   "source": [
    "#------------------(convert to supervised)-------------------------------------\n",
    "#------------------(Multivariate_data function)--------------------------------\n",
    "def multivariate_data(dataset, target, start_index, end_index, history_size,\n",
    "                      target_size, step, single_step=False):\n",
    "    data = []\n",
    "    labels = []\n",
    "\n",
    "    start_index = start_index + history_size\n",
    "    if end_index is None:\n",
    "        end_index = len(dataset) - target_size\n",
    "\n",
    "    for i in range(start_index, end_index):\n",
    "        indices = range(i-history_size, i, step)\n",
    "        data.append(dataset[indices])\n",
    "\n",
    "        if single_step:\n",
    "            labels.append(target[i+target_size])\n",
    "        else:\n",
    "            labels.append(target[i:i+target_size])\n",
    "\n",
    "    return np.array(data), np.array(labels)\n",
    "#------------------------(set variable and convert to supervised)--------------\n",
    "#the function just accept the array type\n",
    "df=np.array(df)"
   ]
  },
  {
   "cell_type": "code",
   "execution_count": 4,
   "id": "38448d38",
   "metadata": {},
   "outputs": [
    {
     "name": "stdout",
     "output_type": "stream",
     "text": [
      "(515, 315)\n"
     ]
    }
   ],
   "source": [
    "#----------------------------(Scale Data)--------------------------------------\n",
    "scaler =MinMaxScaler(feature_range=(0,1))\n",
    "df=scaler.fit_transform(df)\n",
    "past_history =lag\n",
    "#number of step for prediction\n",
    "future_target = 1\n",
    "STEP = 1\n",
    "#train_size_lc=[1,35,45,55,65,75,85,95,105,115,130]\n",
    "\n",
    "tscv = TimeSeriesSplit(n_splits = 3 )\n",
    "\n",
    "x_train_multi, y_train_multi= multivariate_data(df, df[:,12], 0,\n",
    "                                                   TRAIN_SPLIT, past_history,\n",
    "                                                   future_target, STEP,\n",
    "                                                   single_step=False)\n",
    "x_test_multi, y_test_multi = multivariate_data(df, df[:,12],\n",
    "                                               TRAIN_SPLIT, None, past_history,\n",
    "                                               future_target, STEP,\n",
    "                                               single_step=False)\n",
    "\n",
    "\n",
    "\n",
    "\n",
    "x_train_2d=x_train_multi.reshape(x_train_multi.shape[0],(x_train_multi.shape[1]*x_train_multi.shape[2]))\n",
    "x_test_2d=x_test_multi.reshape(x_test_multi.shape[0],-1)                                \n",
    "y_train_1d=y_train_multi.ravel()\n",
    "y_test_1d=y_test_multi.ravel()\n",
    "print(x_train_2d.shape)"
   ]
  },
  {
   "cell_type": "code",
   "execution_count": 5,
   "id": "c9792aea",
   "metadata": {},
   "outputs": [
    {
     "name": "stdout",
     "output_type": "stream",
     "text": [
      "Mean training scores\n",
      "\n",
      " 13     2.792598e-33\n",
      "42     9.806766e-33\n",
      "72     1.463857e-32\n",
      "101    2.852367e-32\n",
      "131    1.222938e-31\n",
      "dtype: float64\n",
      "\n",
      " --------------------\n",
      "\n",
      "Mean validation scores\n",
      "\n",
      " 13     0.001925\n",
      "42     0.001867\n",
      "72     0.003568\n",
      "101    0.014746\n",
      "131    0.907541\n",
      "dtype: float64\n"
     ]
    },
    {
     "data": {
      "image/png": "[encoded data removed]",
      "text/plain": [
       "<Figure size 432x288 with 1 Axes>"
      ]
     },
     "metadata": {
      "needs_background": "light"
     },
     "output_type": "display_data"
    },
    {
     "name": "stdout",
     "output_type": "stream",
     "text": [
      "Mean training scores\n",
      "\n",
      " 13     0.000065\n",
      "42     0.000063\n",
      "72     0.000072\n",
      "101    0.000076\n",
      "131    0.000076\n",
      "dtype: float64\n",
      "\n",
      " --------------------\n",
      "\n",
      "Mean validation scores\n",
      "\n",
      " 13     0.002057\n",
      "42     0.000826\n",
      "72     0.000772\n",
      "101    0.000772\n",
      "131    0.000772\n",
      "dtype: float64\n"
     ]
    },
    {
     "data": {
      "image/png": "[encoded data removed]",
      "text/plain": [
       "<Figure size 432x288 with 1 Axes>"
      ]
     },
     "metadata": {
      "needs_background": "light"
     },
     "output_type": "display_data"
    },
    {
     "name": "stdout",
     "output_type": "stream",
     "text": [
      "Mean training scores\n",
      "\n",
      " 13     0.000294\n",
      "42     0.000032\n",
      "72     0.000025\n",
      "101    0.000017\n",
      "131    0.000016\n",
      "dtype: float64\n",
      "\n",
      " --------------------\n",
      "\n",
      "Mean validation scores\n",
      "\n",
      " 13     0.001389\n",
      "42     0.000693\n",
      "72     0.000664\n",
      "101    0.000675\n",
      "131    0.000585\n",
      "dtype: float64\n"
     ]
    },
    {
     "data": {
      "image/png": "[encoded data removed]",
      "text/plain": [
       "<Figure size 432x288 with 1 Axes>"
      ]
     },
     "metadata": {
      "needs_background": "light"
     },
     "output_type": "display_data"
    }
   ],
   "source": [
    "#---------------------(LR)-----------------------------------------------------\n",
    "\n",
    "train_sizes, train_scores, validation_scores = learning_curve(\n",
    "estimator = LinearRegression(),\n",
    "X = x_train_2d,\n",
    "y = y_train_1d, cv=tscv,\n",
    "scoring = 'neg_mean_squared_error',shuffle=False)\n",
    "train_scores_mean = -train_scores.mean(axis = 1)\n",
    "validation_scores_mean = -validation_scores.mean(axis = 1)\n",
    "print('Mean training scores\\n\\n', pd.Series(train_scores_mean, index = train_sizes))\n",
    "print('\\n', '-' * 20) # separator\n",
    "print('\\nMean validation scores\\n\\n',pd.Series(validation_scores_mean, index = train_sizes))\n",
    "plt.plot(train_sizes, train_scores_mean, '-o', label='Train')\n",
    "plt.plot(train_sizes, validation_scores_mean, '-o', label='Test')\n",
    "plt.legend()\n",
    "plt.title('Model Loss Linear Regression')\n",
    "plt.show() \n",
    "\n",
    "#--------------------------------(svr)-----------------------------------------\n",
    "\n",
    "train_sizes, train_scores, validation_scores = learning_curve(\n",
    "estimator =  SVR(C=1, epsilon=0.01, gamma=0.01, kernel='poly'),\n",
    "X = x_train_2d,\n",
    "y = y_train_1d, cv=tscv ,\n",
    "scoring = 'neg_mean_squared_error',shuffle=False)\n",
    "train_scores_mean = -train_scores.mean(axis = 1)\n",
    "validation_scores_mean = -validation_scores.mean(axis = 1)\n",
    "print('Mean training scores\\n\\n', pd.Series(train_scores_mean, index = train_sizes))\n",
    "print('\\n', '-' * 20) # separator\n",
    "print('\\nMean validation scores\\n\\n',pd.Series(validation_scores_mean, index = train_sizes))\n",
    "plt.plot(train_sizes, train_scores_mean, '-o', label='Train')\n",
    "plt.plot(train_sizes, validation_scores_mean, '-o', label='Test')\n",
    "plt.legend()\n",
    "plt.title('Model Loss SVR')\n",
    "plt.show() \n",
    "\n",
    "\n",
    "#-------------------------------(Random Forest)--------------------------------\n",
    "\n",
    "train_sizes, train_scores, validation_scores = learning_curve(\n",
    "estimator =  RandomForestRegressor(max_depth=80, min_samples_leaf=4, min_samples_split=10,\n",
    "                      n_estimators=200),\n",
    "X = x_train_2d,\n",
    "y = y_train_1d, cv=tscv ,\n",
    "scoring = 'neg_mean_squared_error',shuffle=False)\n",
    "train_scores_mean = -train_scores.mean(axis = 1)\n",
    "validation_scores_mean = -validation_scores.mean(axis = 1)\n",
    "print('Mean training scores\\n\\n', pd.Series(train_scores_mean, index = train_sizes))\n",
    "print('\\n', '-' * 20) # separator\n",
    "print('\\nMean validation scores\\n\\n',pd.Series(validation_scores_mean, index = train_sizes))\n",
    "plt.plot(train_sizes, train_scores_mean, '-o', label='Train')\n",
    "plt.plot(train_sizes, validation_scores_mean, '-o', label='Test')\n",
    "plt.legend()\n",
    "plt.title('Model Loss RandomForest')\n",
    "plt.show() "
   ]
  },
  {
   "cell_type": "code",
   "execution_count": null,
   "id": "e243dcea",
   "metadata": {},
   "outputs": [],
   "source": []
  }
 ],
 "metadata": {
  "kernelspec": {
   "display_name": "Python 3",
   "language": "python",
   "name": "python3"
  },
  "language_info": {
   "codemirror_mode": {
    "name": "ipython",
    "version": 3
   },
   "file_extension": ".py",
   "mimetype": "text/x-python",
   "name": "python",
   "nbconvert_exporter": "python",
   "pygments_lexer": "ipython3",
   "version": "3.8.8"
  }
 },
 "nbformat": 4,
 "nbformat_minor": 5
}
