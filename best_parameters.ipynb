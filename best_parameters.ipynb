{
 "cells": [
  {
   "cell_type": "code",
   "execution_count": 1,
   "id": "f8e6c4f0",
   "metadata": {},
   "outputs": [
    {
     "data": {
      "text/plain": [
       "RandomForestRegressor(max_depth=100, min_samples_leaf=4, min_samples_split=5,\n",
       "                      n_estimators=50)"
      ]
     },
     "execution_count": 1,
     "metadata": {},
     "output_type": "execute_result"
    }
   ],
   "source": [
    "import pandas as pd\n",
    "import numpy as np\n",
    "from sklearn.model_selection import RandomizedSearchCV\n",
    "from sklearn.ensemble import RandomForestRegressor\n",
    "from sklearn.preprocessing import MinMaxScaler\n",
    "from sklearn.metrics import mean_squared_error\n",
    "from sklearn.model_selection import TimeSeriesSplit\n",
    "#---------------------(Read Dataset)-------------------------------------------\n",
    "df=pd.read_csv(\"C:/Users/Asus/Desktop/Forecasting-covid-cases-MLDL/dataset-fr.csv\")\n",
    "df['date']=pd.to_datetime(df['date']).dt.date\n",
    "df.set_index('date',inplace=True)\n",
    "#------------------(Split Dataset)---------------------------------------------\n",
    "TRAIN_SPLIT=int(len(df)*0.8)\n",
    "#print(TRAIN_SPLIT)\n",
    "lag=21 #for active cases (conf_j1)\n",
    "#------------------(convert to supervised)-------------------------------------\n",
    "#------------------(Multivariate_data function)--------------------------------\n",
    "def multivariate_data(dataset, target, start_index, end_index, history_size,\n",
    "                      target_size, step, single_step=False):\n",
    "    data = []\n",
    "    labels = []\n",
    "\n",
    "    start_index = start_index + history_size\n",
    "    if end_index is None:\n",
    "        end_index = len(dataset) - target_size\n",
    "\n",
    "    for i in range(start_index, end_index):\n",
    "        indices = range(i-history_size, i, step)\n",
    "        data.append(dataset[indices])\n",
    "\n",
    "        if single_step:\n",
    "            labels.append(target[i+target_size])\n",
    "        else:\n",
    "            labels.append(target[i:i+target_size])\n",
    "\n",
    "    return np.array(data), np.array(labels)\n",
    "#------------------------(set variable and convert to supervised)--------------\n",
    "#the function just accept the array type\n",
    "df=np.array(df)\n",
    "#----------------------------(Scale Data)--------------------------------------\n",
    "scaler =MinMaxScaler(feature_range=(0,1))\n",
    "df=scaler.fit_transform(df)\n",
    "past_history =lag\n",
    "#number of step for prediction\n",
    "future_target = 1\n",
    "STEP = 1\n",
    "tscv = TimeSeriesSplit(n_splits = 3 )\n",
    "x_train_multi, y_train_multi= multivariate_data(df, df[:,12], 0,\n",
    "                                                   TRAIN_SPLIT, past_history,\n",
    "                                                   future_target, STEP,\n",
    "                                                   single_step=False)\n",
    "x_test_multi, y_test_multi = multivariate_data(df, df[:,12],\n",
    "                                               TRAIN_SPLIT, None, past_history,\n",
    "                                               future_target, STEP,\n",
    "                                               single_step=False)\n",
    "\n",
    "x_train_2d=x_train_multi.reshape(x_train_multi.shape[0],(x_train_multi.shape[1]*x_train_multi.shape[2]))\n",
    "x_test_2d=x_test_multi.reshape(x_test_multi.shape[0],-1)                                \n",
    "y_train_1d=y_train_multi.ravel()\n",
    "y_test_1d=y_test_multi.ravel()\n",
    "#------------------------------------(Random Forest)---------------------------\n",
    "#Building the random forest model\n",
    "RF_grid = {\n",
    "    'bootstrap': [True, False],\n",
    "    'max_depth': [10, 20, 30, 40, 50, 60, 70, 80, 90, 100, None],\n",
    "    'max_features': ['auto', 'sqrt'],\n",
    "    'min_samples_leaf': [1, 2, 4],\n",
    "    'min_samples_split': [2, 5, 10],\n",
    "    'n_estimators': [20,50,100,200,1000]\n",
    "}\n",
    "RF = RandomForestRegressor()\n",
    "#cv=the number of folds to use for cross validation\n",
    "RF_search = RandomizedSearchCV(RF,RF_grid,cv=tscv)\n",
    "RF_search.fit(x_train_2d,y_train_1d)\n",
    "RF_confirmed = RF_search.best_estimator_    \n",
    "RF_confirmed.fit(x_train_2d,y_train_1d)"
   ]
  },
  {
   "cell_type": "code",
   "execution_count": null,
   "id": "1cd4f9cf",
   "metadata": {},
   "outputs": [],
   "source": []
  }
 ],
 "metadata": {
  "kernelspec": {
   "display_name": "Python 3",
   "language": "python",
   "name": "python3"
  },
  "language_info": {
   "codemirror_mode": {
    "name": "ipython",
    "version": 3
   },
   "file_extension": ".py",
   "mimetype": "text/x-python",
   "name": "python",
   "nbconvert_exporter": "python",
   "pygments_lexer": "ipython3",
   "version": "3.8.8"
  }
 },
 "nbformat": 4,
 "nbformat_minor": 5
}
