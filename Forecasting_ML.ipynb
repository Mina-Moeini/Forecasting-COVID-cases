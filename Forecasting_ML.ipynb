{
 "cells": [
  {
   "cell_type": "code",
   "execution_count": 5,
   "id": "fa626a00",
   "metadata": {},
   "outputs": [],
   "source": [
    "import pandas as pd\n",
    "import numpy as np\n",
    "import matplotlib\n",
    "import matplotlib.pyplot as plt\n",
    "from sklearn.preprocessing import MinMaxScaler\n",
    "from sklearn.metrics import mean_squared_error\n",
    "from sklearn.linear_model import LinearRegression\n",
    "from sklearn.model_selection import RandomizedSearchCV\n",
    "from sklearn.ensemble import RandomForestRegressor\n",
    "from sklearn.svm import SVR\n",
    "\n",
    "#---------------------(Read Dataset)-------------------------------------------\n",
    "df=pd.read_csv(\"C:/Users/Asus/Desktop/Forecasting-covidcases/dataset-fr.csv\")\n",
    "df['date']=pd.to_datetime(df['date']).dt.date\n",
    "df.set_index('date',inplace=True)\n",
    "#------------------(Split Dataset)---------------------------------------------\n",
    "TRAIN_SPLIT=int(len(df)*0.8)\n",
    "\n",
    "lag=21 #for active cases (conf_j1)\n",
    "#------------------(convert to supervised)-------------------------------------\n",
    "#------------------(Multivariate_data function)--------------------------------\n",
    "def multivariate_data(dataset, target, start_index, end_index, history_size,\n",
    "                      target_size, step, single_step=False):\n",
    "    data = []\n",
    "    labels = []\n",
    "\n",
    "    start_index = start_index + history_size\n",
    "    if end_index is None:\n",
    "        end_index = len(dataset) - target_size\n",
    "\n",
    "    for i in range(start_index, end_index):\n",
    "        indices = range(i-history_size, i, step)\n",
    "        data.append(dataset[indices])\n",
    "\n",
    "        if single_step:\n",
    "            labels.append(target[i+target_size])\n",
    "        else:\n",
    "            labels.append(target[i:i+target_size])\n",
    "\n",
    "    return np.array(data), np.array(labels)\n",
    "#------------------------(set variable and convert to supervised)--------------\n",
    "#the function just accept the array type\n",
    "df=np.array(df)\n",
    "#----------------------------(Scale Data)--------------------------------------\n",
    "scaler =MinMaxScaler(feature_range=(0,1))\n",
    "df=scaler.fit_transform(df)\n",
    "past_history =lag\n",
    "#number of step for prediction\n",
    "future_target = 1\n",
    "STEP = 1\n",
    "\n",
    "x_train_multi, y_train_multi= multivariate_data(df, df[:,12], 0,\n",
    "                                                   TRAIN_SPLIT, past_history,\n",
    "                                                   future_target, STEP,\n",
    "                                                   single_step=False)\n",
    "x_test_multi, y_test_multi = multivariate_data(df, df[:,12],\n",
    "                                               TRAIN_SPLIT, None, past_history,\n",
    "                                               future_target, STEP,\n",
    "                                               single_step=False)"
   ]
  },
  {
   "cell_type": "code",
   "execution_count": 6,
   "id": "2a7fd26f",
   "metadata": {},
   "outputs": [
    {
     "name": "stdout",
     "output_type": "stream",
     "text": [
      "(515, 21, 15) (112, 21, 15) (515, 1) (112, 1)\n",
      "********after conver***********\n",
      "(515, 315) (112, 315) (515,) (112,)\n",
      "MSE_LR :  0.0059991756514626\n",
      "Next step LR : [0.8431092]\n"
     ]
    }
   ],
   "source": [
    "print(x_train_multi.shape ,x_test_multi.shape ,y_train_multi.shape,y_test_multi.shape)\n",
    "\n",
    "x_train_2d=x_train_multi.reshape(x_train_multi.shape[0],(x_train_multi.shape[1]*x_train_multi.shape[2]))\n",
    "x_test_2d=x_test_multi.reshape(x_test_multi.shape[0],-1)                                \n",
    "y_train_1d=y_train_multi.ravel()\n",
    "y_test_1d=y_test_multi.ravel()\n",
    "           \n",
    "print(\"********after conver***********\")              \n",
    "print(x_train_2d.shape ,x_test_2d.shape ,y_train_1d.shape,y_test_1d.shape)\n",
    "#------------------(define models and fit)-------------------------------------\n",
    "#---------------------(LR)-----------------------------------------------------\n",
    "LR_model=LinearRegression()\n",
    "LR_model.fit(x_train_2d,y_train_1d)\n",
    "\n",
    "#------------------(MSE and Predict)-------------------------------------------\n",
    "##Predict Test Set\n",
    "predict_LR=LR_model.predict(x_test_2d)\n",
    "mse_LR= mean_squared_error(y_test_1d, predict_LR)\n",
    "print(\"MSE_LR : \",  mse_LR)\n",
    "##-------------------(predict next step)---------------------------------------\n",
    "input_samples=x_test_2d[-1:,:]\n",
    "next_step_LR=LR_model.predict(input_samples)\n",
    "#print(next_step_RNN.shape)\n",
    "print(\"Next step LR :\" , next_step_LR)"
   ]
  },
  {
   "cell_type": "code",
   "execution_count": 7,
   "id": "c0880ee0",
   "metadata": {},
   "outputs": [
    {
     "name": "stdout",
     "output_type": "stream",
     "text": [
      "MSE_SVR: 0.035253512238210334\n",
      "Next step SVR : [0.42545896]\n"
     ]
    }
   ],
   "source": [
    "\n",
    "#Building the support vector regression model\n",
    "#we will choose the best parameter for SVR model\n",
    "\"\"\"\n",
    "kernel = ['poly','sigmoid','rbf']\n",
    "C = [0.01,0.1,1,10]\n",
    "gamma = [0.01,0.1,1]\n",
    "epsilon = [0.01,0.1,1]\n",
    "shrinking = [True,False]\n",
    "svr_grid = {'kernel':kernel,'C':C,'gamma':gamma,'epsilon':epsilon,'shrinking':shrinking}\n",
    "\"\"\"\n",
    "SVR = SVR(C=1, epsilon=0.01, gamma=0.01, kernel='poly')\n",
    "#svr_search = RandomizedSearchCV(SVR,svr_grid,cv=3)\n",
    "SVR.fit(x_train_2d,y_train_1d)\n",
    "#svr_search.best_params_\n",
    "#svr_confirmed=svr_search.best_estimator_\n",
    "#svr_confirmed.fit(x_train_2d,y_train_1d)\n",
    "#------------------(MSE and Predict)------------------------------------------\n",
    "prediction_SVR = SVR.predict(x_test_2d)\n",
    "mse_SVR = mean_squared_error(y_test_1d,prediction_SVR)\n",
    "print(\"MSE_SVR:\" , mse_SVR)\n",
    "##-------------------(predict next step)---------------------------------------\n",
    "input_samples=x_test_2d[-1:,:]\n",
    "next_step_SVR=SVR.predict(input_samples)\n",
    "print(\"Next step SVR :\",next_step_SVR)"
   ]
  },
  {
   "cell_type": "code",
   "execution_count": 8,
   "id": "ede2ce64",
   "metadata": {},
   "outputs": [
    {
     "name": "stdout",
     "output_type": "stream",
     "text": [
      "MSE_RF: 0.06791176453470113\n",
      "Next step RF : [0.0988711]\n"
     ]
    }
   ],
   "source": [
    "#------------------------------------(Random Forest)---------------------------\n",
    "\n",
    "RF = RandomForestRegressor(max_depth=80, min_samples_leaf=4, min_samples_split=10,\n",
    "                      n_estimators=200)\n",
    "\n",
    "RF.fit(x_train_2d,y_train_1d)\n",
    "#print(RF_confirmed)\n",
    "#------------------(MSE and Predict)-------------------------------------------\n",
    "prediction_RF= RF.predict(x_test_2d)\n",
    "mse_RF = mean_squared_error(y_test_1d,prediction_RF)\n",
    "print(\"MSE_RF:\" , mse_RF)\n",
    "##-------------------(predict next step)---------------------------------------\n",
    "input_samples=x_test_2d[-1:,:]\n",
    "next_step_RF=RF.predict(input_samples)\n",
    "print(\"Next step RF :\",next_step_RF)"
   ]
  },
  {
   "cell_type": "code",
   "execution_count": null,
   "id": "05bc7b43",
   "metadata": {},
   "outputs": [],
   "source": []
  }
 ],
 "metadata": {
  "kernelspec": {
   "display_name": "Python 3",
   "language": "python",
   "name": "python3"
  },
  "language_info": {
   "codemirror_mode": {
    "name": "ipython",
    "version": 3
   },
   "file_extension": ".py",
   "mimetype": "text/x-python",
   "name": "python",
   "nbconvert_exporter": "python",
   "pygments_lexer": "ipython3",
   "version": "3.8.8"
  }
 },
 "nbformat": 4,
 "nbformat_minor": 5
}
